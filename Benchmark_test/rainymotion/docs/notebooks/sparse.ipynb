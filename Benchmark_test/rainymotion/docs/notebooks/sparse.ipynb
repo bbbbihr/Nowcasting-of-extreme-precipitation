{
 "cells": [
  {
   "cell_type": "markdown",
   "metadata": {},
   "source": [
    "# Sparse optical flow models"
   ]
  },
  {
   "cell_type": "markdown",
   "metadata": {},
   "source": [
    "Severe weather conditions evolve fast, so it might be not enough to use NWP forecasts only to predict (especially local) rainfall rates correctly for an hour (or less) in advance.\n",
    "\n",
    "General idea of nowcasting is to use series of consecutive radar images for predicting the next ones with lead times up to 2 hours and time resolution from 5 to 20 minutes.\n",
    "\n",
    "![](images/nowcasting.png)\n",
    "\n",
    "You can refer to [the best review of nowcasting techniques and its classification by J. Wilson et. al. (1998)](http://journals.ametsoc.org/doi/pdf/10.1175/1520-0477%281998%29079%3C2079%3ANTASR%3E2.0.CO%3B2)"
   ]
  },
  {
   "cell_type": "markdown",
   "metadata": {},
   "source": [
    "Here we will briefly describe and implement the models from the Sparse group of the [*rainymotion*](https://github.com/hydrogo/rainymotion) library:\n",
    "\n",
    "1. SparseSD model\n",
    "2. Sparse model"
   ]
  },
  {
   "cell_type": "markdown",
   "metadata": {},
   "source": [
    "## The SparseSD model\n",
    "\n",
    "The implementation of the SparseSD model can be summarized as follows:\n",
    "\n",
    "1. Identify features in a radar image at time t-1 using the Shi-Tomasi (Shi and Tomasi, 1994) corner detector;\n",
    "2. Track these features at time t using the local Lukas-Kanade (Lukas and Kanade, 1981) optical flow algorithm;\n",
    "3. Linearly extrapolate the features’ motion in order to predict the features’ locations at each lead time n;\n",
    "4. Calculate the affine transformation matrix (Schneider and Eberly, 2003) for each lead time n based on the features’ locations at time t and t+n;\n",
    "5. Warp the radar image at time t for each lead time n using the corresponding affine matrix, and linearly interpolate remaining discontinuities (Wolberg, 1990)."
   ]
  },
  {
   "cell_type": "markdown",
   "metadata": {},
   "source": [
    "![SparseSD](images/sparsesd_sc.png)"
   ]
  },
  {
   "cell_type": "markdown",
   "metadata": {},
   "source": [
    "The SparseSD model usage example:\n",
    "\n",
    "```python\n",
    "# import the model from the rainymotion library\n",
    "from rainymotion.models import SparseSD\n",
    "\n",
    "# initialize the model\n",
    "model = SparseSD()\n",
    "\n",
    "# upload data to the model instance\n",
    "model.input_data = np.load(\"/path/to/data\")\n",
    "\n",
    "# run the model with default parameters\n",
    "nowcast = model.run()\n",
    "```"
   ]
  },
  {
   "cell_type": "markdown",
   "metadata": {},
   "source": [
    "## The Sparse model\n",
    "\n",
    "The implementation of the Sparse model can be summarized as follows:\n",
    "\n",
    "1. Identify features on a radar image at time t-23 using the Shi-Tomasi (Shi and Tomasi, 1994) corner detector;\n",
    "2. Track these features on radar images at the time from t-22 to t using the local Lukas-Kanade (Lukas and Kanade, 1981) optical flow algorithm;\n",
    "3. Build linear regression models which independently parametrize changes in coordinates through time (from t-23 to t) for every successfully tracked feature;\n",
    "4. Linearly extrapolate the features’ motion in order to predict the features’ locations at each lead time n;\n",
    "5. Calculate the affine transformation matrix (Schneider and Eberly, 2003) for each lead time n based on the features’ locations at time t and t+n;\n",
    "6. Warp the radar image at time t for each lead time n using the corresponding affine matrix, and linearly interpolate remaining discontinuities (Wolberg, 1990)."
   ]
  },
  {
   "cell_type": "markdown",
   "metadata": {},
   "source": [
    "![Sparse](images/sparse_sc.png)"
   ]
  },
  {
   "cell_type": "markdown",
   "metadata": {},
   "source": [
    "The Sparse model usage example:\n",
    "\n",
    "```python\n",
    "# import the model from the rainymotion library\n",
    "from rainymotion.models import Sparse\n",
    "\n",
    "# initialize the model\n",
    "model = Sparse()\n",
    "\n",
    "# upload data to the model instance\n",
    "model.input_data = np.load(\"/path/to/data\")\n",
    "\n",
    "# run the model with default parameters\n",
    "nowcast = model.run()\n",
    "```"
   ]
  }
 ],
 "metadata": {
  "kernelspec": {
   "display_name": "Python 3",
   "language": "python",
   "name": "python3"
  },
  "language_info": {
   "codemirror_mode": {
    "name": "ipython",
    "version": 3
   },
   "file_extension": ".py",
   "mimetype": "text/x-python",
   "name": "python",
   "nbconvert_exporter": "python",
   "pygments_lexer": "ipython3",
   "version": "3.5.5"
  }
 },
 "nbformat": 4,
 "nbformat_minor": 2
}
