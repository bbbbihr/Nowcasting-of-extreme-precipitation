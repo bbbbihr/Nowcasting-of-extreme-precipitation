{
 "cells": [
  {
   "cell_type": "markdown",
   "metadata": {},
   "source": [
    "# Dense optical flow models\n",
    "\n",
    "Here we will briefly describe and implement the models from the Dense group of the [*rainymotion*](github.com/hydrogo/rainymotion/) library:\n",
    "\n",
    "1. Dense model\n",
    "2. DenseRotation model\n",
    "\n",
    "The Dense group models’ implementation can be summarized as follows:\n",
    "\n",
    "1. Calculate a continuous displacement field using a global Farnebäck (2003) optical flow algorithm based on the radar images at t-1 and t;\n",
    "2. Use a constant-vector or a semi-Lagrangian scheme (Fig. 1) to advect each pixel according obtained displacement (velocity) field, in one single step for each lead time t+n;\n",
    "3. Use the intensity of each displaced pixel at its new location at time t+n in order to interpolate the intensity at each grid point of the original (native) radar grid (Liu et al., 2015; Zahraei et al., 2012) (Fig. 2)."
   ]
  },
  {
   "cell_type": "markdown",
   "metadata": {},
   "source": [
    "![Fig. 1](images/advection.png)\n",
    "\n",
    "![Fig. 2](images/interpolation.png)"
   ]
  },
  {
   "cell_type": "markdown",
   "metadata": {},
   "source": [
    "## The Dense model\n",
    "\n",
    "The Dense model usage example:\n",
    "\n",
    "```python\n",
    "# import the model from the rainymotion library\n",
    "from rainymotion.models import Dense\n",
    "\n",
    "# initialize the model\n",
    "model = Dense()\n",
    "\n",
    "# upload data to the model instance\n",
    "model.input_data = np.load(\"/path/to/data\")\n",
    "\n",
    "# run the model with default parameters\n",
    "nowcast = model.run()\n",
    "```\n",
    "\n",
    "## The DenseRotation model\n",
    "\n",
    "The DenseRotation model usage example:\n",
    "\n",
    "```python\n",
    "# import the model from the rainymotion library\n",
    "from rainymotion.models import DenseRotation\n",
    "\n",
    "# initialize the model\n",
    "model = DenseRotation()\n",
    "\n",
    "# upload data to the model instance\n",
    "model.input_data = np.load(\"/path/to/data\")\n",
    "\n",
    "# run the model with default parameters\n",
    "nowcast = model.run()\n",
    "```"
   ]
  }
 ],
 "metadata": {
  "kernelspec": {
   "display_name": "Python 3",
   "language": "python",
   "name": "python3"
  },
  "language_info": {
   "codemirror_mode": {
    "name": "ipython",
    "version": 3
   },
   "file_extension": ".py",
   "mimetype": "text/x-python",
   "name": "python",
   "nbconvert_exporter": "python",
   "pygments_lexer": "ipython3",
   "version": "3.5.5"
  }
 },
 "nbformat": 4,
 "nbformat_minor": 2
}
